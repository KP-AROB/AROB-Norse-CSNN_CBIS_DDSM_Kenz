{
 "cells": [
  {
   "cell_type": "code",
   "execution_count": 19,
   "metadata": {},
   "outputs": [],
   "source": [
    "import torch\n",
    "from src.models.classification import SimpleCLSModel\n",
    "from src.networks.classification import ConvNet\n",
    "from norse.torch import ConstantCurrentLIFEncoder\n",
    "from src.utils.decoders import softmax_decoder\n",
    "from src.utils.dataloaders import load_mnist_dataloader\n",
    "\n",
    "max_latency = 80\n",
    "n_classes = 10\n",
    "input_size = 28\n",
    "\n",
    "gpu = torch.cuda.is_available()\n",
    "DEVICE = torch.device(\"cuda\") if gpu else torch.device(\"cpu\")\n",
    "\n",
    "model = SimpleCLSModel(\n",
    "    encoder=ConstantCurrentLIFEncoder(seq_length=max_latency), \n",
    "    snn=ConvNet(alpha=80, n_classes = n_classes, feature_size=input_size), \n",
    "    decoder=softmax_decoder\n",
    ")"
   ]
  },
  {
   "cell_type": "code",
   "execution_count": 20,
   "metadata": {},
   "outputs": [
    {
     "name": "stdout",
     "output_type": "stream",
     "text": [
      "\n",
      "# Available labels in dataset : {'0 - zero': 0, '1 - one': 1, '2 - two': 2, '3 - three': 3, '4 - four': 4, '5 - five': 5, '6 - six': 6, '7 - seven': 7, '8 - eight': 8, '9 - nine': 9}\n"
     ]
    }
   ],
   "source": [
    "model.load_state_dict(torch.load(\"./logs/MNIST - d898f1c7/checkpoint.pth\", weights_only=True))\n",
    "model.eval()\n",
    "train_dl, test_dl, _ = load_mnist_dataloader('./data', image_size=input_size, batch_size=1, gpu=gpu)\n",
    "batch = train_dl.dataset[0]"
   ]
  },
  {
   "cell_type": "code",
   "execution_count": null,
   "metadata": {},
   "outputs": [
    {
     "name": "stdout",
     "output_type": "stream",
     "text": [
      "Input given is : 5\n",
      "Input predicted is : tensor([[-10.7320, -10.6423,  -8.0837,  -3.0837, -11.1425,  -0.0474, -11.1425,\n",
      "         -10.5107,  -9.5851, -10.1385]], grad_fn=<LogSoftmaxBackward0>)\n"
     ]
    }
   ],
   "source": [
    "print('Input given is : {}'.format(batch[1]))\n",
    "output = model(batch[0])\n",
    "print('Input predicted is : {}'.format(output))"
   ]
  },
  {
   "cell_type": "code",
   "execution_count": null,
   "metadata": {},
   "outputs": [],
   "source": []
  }
 ],
 "metadata": {
  "kernelspec": {
   "display_name": "norse",
   "language": "python",
   "name": "python3"
  },
  "language_info": {
   "codemirror_mode": {
    "name": "ipython",
    "version": 3
   },
   "file_extension": ".py",
   "mimetype": "text/x-python",
   "name": "python",
   "nbconvert_exporter": "python",
   "pygments_lexer": "ipython3",
   "version": "3.10.15"
  }
 },
 "nbformat": 4,
 "nbformat_minor": 2
}
